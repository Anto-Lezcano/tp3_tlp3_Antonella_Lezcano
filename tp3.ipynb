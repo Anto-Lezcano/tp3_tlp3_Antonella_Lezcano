{
 "cells": [
  {
   "cell_type": "markdown",
   "id": "498731c6",
   "metadata": {},
   "source": [
    "# Trabajo Practico n3 - Trabajando con Lists y Sets.\n",
    "## Criterios de evaluación.\n",
    "\n",
    "* Se deben utilizar nombres de variables descriptivos y claros (Utilizar la nomeclatura correspondiente para los nombres de variables).\n",
    "* Comentarios claros y concisos que expliquen el propósito de cada sección del código.\n",
    "* Utilizar mensajes de commit **descriptivos**. (Puedes utilizar la extension CONVENTIONAL COMMIT de VS-CODE). \n",
    "* Entrega en tiempo y forma.\n",
    "* Todo el código desarrollado debe ser subido a un repositorio en GitHub (el nombre del repositorio de seguir la siguiente estructura: tp3_tlp3_nombre_apellido).\n",
    "* Para resolver las actividades se debe insertar casillas de codigo entre cada actividad del cuaderno de Jupyter\n",
    "* El repositorio de GitHub debe incluir un archivo README.md con las instrucciones necesarias para la correcta ejecución del código.\n",
    "\n",
    "### ¡Importante!\n",
    "**El incumplimiento de los criterios de evaluación restará puntos en la nota final del práctico!**"
   ]
  },
  {
   "cell_type": "markdown",
   "id": "b361a7b6",
   "metadata": {},
   "source": [
    "### Actividad 1: \n",
    "Suma de todos los elementos de una lista, utilizando bucles repetitivos (for, while)."
   ]
  },
  {
   "cell_type": "code",
   "execution_count": 1,
   "id": "26009294",
   "metadata": {},
   "outputs": [
    {
     "name": "stdout",
     "output_type": "stream",
     "text": [
      "La suma total de los elementos es: 204\n"
     ]
    }
   ],
   "source": [
    "\n",
    "numbers = [14, 23, 34, 48, 85]\n",
    "suma_total = 0\n",
    "for numero in numbers:\n",
    "    suma_total += numero \n",
    "\n",
    "print(\"La suma total de los elementos es:\", suma_total)\n",
    "\n"
   ]
  },
  {
   "cell_type": "markdown",
   "id": "0c239195",
   "metadata": {},
   "source": [
    "### Actividad 2: \n",
    "Encontrar el número más grande en una lista, utilizando bucles repetitivos (for, while)."
   ]
  },
  {
   "cell_type": "code",
   "execution_count": 2,
   "id": "3611d25a",
   "metadata": {},
   "outputs": [
    {
     "name": "stdout",
     "output_type": "stream",
     "text": [
      "Lista de números aleatorios: [26, 47, 53, 2, 89]\n",
      "El número más grande en la lista es: 89\n"
     ]
    }
   ],
   "source": [
    "from random import randint\n",
    "random_numbers = [randint(1, 100) for i in range(5)]\n",
    "print(\"Lista de números aleatorios:\", random_numbers)\n",
    "maximo = random_numbers[0]\n",
    "for numero in random_numbers:\n",
    "    if numero > maximo:\n",
    "        maximo = numero\n",
    "print(\"El número más grande en la lista es:\", maximo)"
   ]
  },
  {
   "cell_type": "markdown",
   "id": "70a24b97",
   "metadata": {},
   "source": [
    "### Actividad 3:\n",
    "Contar cuántas veces aparece un número específico. Utiliza estructuras repetitivas para la resolucion de este ejercicio. "
   ]
  },
  {
   "cell_type": "code",
   "execution_count": 4,
   "id": "a9c8ebc7",
   "metadata": {},
   "outputs": [
    {
     "name": "stdout",
     "output_type": "stream",
     "text": [
      "Lista de números aleatorios: [82, 166, 3, 128, 108, 71, 10, 39, 171, 104, 12, 74, 172, 116, 119, 120, 85, 42, 89, 84]\n",
      "El número 89 aparece 1 veces en la lista.\n"
     ]
    }
   ],
   "source": [
    "from random import randint\n",
    "lists = [randint(1, 200) for i in range(20)]\n",
    "print(\"Lista de números aleatorios:\", lists)\n",
    "numero_a_buscar = int(input(\"Ingrese el número que desea contar en la lista: \"))\n",
    "contador = 0\n",
    "for numero in lists:\n",
    "    if numero == numero_a_buscar:\n",
    "        contador += 1\n",
    "print(f\"El número {numero_a_buscar} aparece {contador} veces en la lista.\")\n"
   ]
  },
  {
   "cell_type": "markdown",
   "id": "b8dac397",
   "metadata": {},
   "source": [
    "### Actividad 4: \n",
    "Invertir una lista sin usar reverse() ni [::-1]"
   ]
  },
  {
   "cell_type": "code",
   "execution_count": 5,
   "id": "d04fd492",
   "metadata": {},
   "outputs": [
    {
     "name": "stdout",
     "output_type": "stream",
     "text": [
      "Lista original: [49, 40, 40, 36, 3, 4, 18, 44]\n",
      "Lista invertida: [44, 18, 4, 3, 36, 40, 40, 49]\n"
     ]
    }
   ],
   "source": [
    "from random import randint\n",
    "lists_two = [randint(1, 50) for i in range(8)]\n",
    "print(\"Lista original:\", lists_two)\n",
    "lista_invertida = []\n",
    "for i in range(len(lists_two) - 1, -1, -1):\n",
    "    lista_invertida.append(lists_two[i]) \n",
    "print(\"Lista invertida:\", lista_invertida)\n"
   ]
  },
  {
   "cell_type": "markdown",
   "id": "8889d0f2",
   "metadata": {},
   "source": [
    "### Actividad 5:\n",
    "Sumar los elementos de dos listas posición por posición, utilizando solo bucles repetititivos (for,while)."
   ]
  },
  {
   "cell_type": "code",
   "execution_count": 6,
   "id": "bc0ec844",
   "metadata": {},
   "outputs": [
    {
     "name": "stdout",
     "output_type": "stream",
     "text": [
      "Resultado de la suma posición por posición: [3, 7, 11, 16, 18]\n"
     ]
    }
   ],
   "source": [
    "lists_one = [2, 4, 6, 7, 8]\n",
    "lists_two = [1, 3, 5, 9, 10]\n",
    "suma_listas = []\n",
    "for i in range(len(lists_one)):\n",
    "    suma = lists_one[i] + lists_two[i]\n",
    "    suma_listas.append(suma)\n",
    "print(\"Resultado de la suma posición por posición:\", suma_listas)\n"
   ]
  },
  {
   "cell_type": "markdown",
   "id": "8ce33e6b",
   "metadata": {},
   "source": [
    "### Actividad 6:\n",
    "\n",
    "Escribir un programa que almacene el abecedario en una lista, elimine de la lista las letras que ocupen posiciones múltiplos de 3, y muestre por pantalla la lista resultante."
   ]
  },
  {
   "cell_type": "code",
   "execution_count": 7,
   "id": "b07326e2",
   "metadata": {},
   "outputs": [
    {
     "name": "stdout",
     "output_type": "stream",
     "text": [
      "Abecedario original: ['a', 'b', 'c', 'd', 'e', 'f', 'g', 'h', 'i', 'j', 'k', 'l', 'm', 'n', 'o', 'p', 'q', 'r', 's', 't', 'u', 'v', 'w', 'x', 'y', 'z']\n",
      "Abecedario filtrado (sin letras en posiciones múltiplos de 3): ['a', 'b', 'd', 'e', 'g', 'h', 'j', 'k', 'm', 'n', 'p', 'q', 's', 't', 'v', 'w', 'y', 'z']\n"
     ]
    }
   ],
   "source": [
    "import string\n",
    "abecedario = list(string.ascii_lowercase)\n",
    "print(\"Abecedario original:\", abecedario)\n",
    "abecedario_filtrado = []\n",
    "for i, letra in enumerate(abecedario):\n",
    "    if (i + 1) % 3 != 0: \n",
    "        abecedario_filtrado.append(letra)\n",
    "print(\"Abecedario filtrado (sin letras en posiciones múltiplos de 3):\", abecedario_filtrado)\n"
   ]
  },
  {
   "cell_type": "markdown",
   "id": "5bfeb4b5",
   "metadata": {},
   "source": [
    "### Actividad 7:\n",
    "\n",
    "Escribir un programa que pida al usuario una palabra y muestre por pantalla si es un palíndromo (una palabra que se escribe de la misma forma al derecho y al reves)."
   ]
  },
  {
   "cell_type": "code",
   "execution_count": 8,
   "id": "2365afcc",
   "metadata": {},
   "outputs": [
    {
     "name": "stdout",
     "output_type": "stream",
     "text": [
      "La palabra 'ama' es un palíndromo.\n"
     ]
    }
   ],
   "source": [
    "palabra = input(\"Ingrese una palabra: \")\n",
    "palabra = palabra.lower()\n",
    "palabra_invertida = ''\n",
    "for letra in palabra:\n",
    "    palabra_invertida = letra + palabra_invertida \n",
    "if palabra == palabra_invertida:\n",
    "    print(f\"La palabra '{palabra}' es un palíndromo.\")\n",
    "else:\n",
    "    print(f\"La palabra '{palabra}' no es un palíndromo.\")\n"
   ]
  },
  {
   "cell_type": "markdown",
   "id": "ed8b51be",
   "metadata": {},
   "source": [
    "### Actividad 8:\n",
    "\n",
    "Teniendo en cuenta el conjunto 1 y el conjunto 2, sin usar el operador de intersección &, calcular la intersección de dichos conjuntos."
   ]
  },
  {
   "cell_type": "code",
   "execution_count": 9,
   "id": "21a434b9",
   "metadata": {},
   "outputs": [
    {
     "name": "stdout",
     "output_type": "stream",
     "text": [
      "Intersección de los conjuntos: {3, 4}\n"
     ]
    }
   ],
   "source": [
    "conjunto1 = {1, 2, 3, 4}\n",
    "conjunto2 = {3, 4, 5, 6}\n",
    "interseccion = set()\n",
    "for elemento in conjunto1:\n",
    "    if elemento in conjunto2:\n",
    "        interseccion.add(elemento)\n",
    "print(\"Intersección de los conjuntos:\", interseccion)\n"
   ]
  },
  {
   "cell_type": "markdown",
   "id": "31b460dc",
   "metadata": {},
   "source": [
    "### Actividad 9:\n",
    "Eliminar duplicados de una lista usando un set."
   ]
  },
  {
   "cell_type": "code",
   "execution_count": 11,
   "id": "0ef62008",
   "metadata": {},
   "outputs": [
    {
     "name": "stdout",
     "output_type": "stream",
     "text": [
      "Lista original: [1, 2, 2, 3, 4, 4, 5]\n",
      "Lista sin duplicados: [1, 2, 3, 4, 5]\n"
     ]
    }
   ],
   "source": [
    "lista = [1, 2, 2, 3, 4, 4, 5]\n",
    "def eliminar_duplicados(lista):\n",
    "    vistos = set()\n",
    "    lista_sin_duplicados = []\n",
    "    for elemento in lista:\n",
    "        if elemento not in vistos:\n",
    "            vistos.add(elemento)\n",
    "            lista_sin_duplicados.append(elemento)\n",
    "    return lista_sin_duplicados\n",
    "lista_sin_duplicados = eliminar_duplicados(lista)\n",
    "print(\"Lista original:\", lista)\n",
    "print(\"Lista sin duplicados:\", lista_sin_duplicados)\n"
   ]
  },
  {
   "cell_type": "markdown",
   "id": "075f1f2c",
   "metadata": {},
   "source": [
    "### Actividad 10:\n",
    "\n",
    "Escribir un programa que cree 2 matrices y realice su multiplicacion."
   ]
  },
  {
   "cell_type": "code",
   "execution_count": 12,
   "id": "4c1fd0e1",
   "metadata": {},
   "outputs": [
    {
     "name": "stdout",
     "output_type": "stream",
     "text": [
      "Resultado de la multiplicación de matrices:\n",
      "[58, 64]\n",
      "[139, 154]\n"
     ]
    }
   ],
   "source": [
    "matriz_1 = [\n",
    "    [1, 2, 3],\n",
    "    [4, 5, 6]\n",
    "] \n",
    "\n",
    "matriz_2 = [\n",
    "    [7, 8],\n",
    "    [9, 10],\n",
    "    [11, 12]\n",
    "] \n",
    "resultado = [[0 for _ in range(len(matriz_2[0]))] for _ in range(len(matriz_1))]\n",
    "for i in range(len(matriz_1)):\n",
    "    for j in range(len(matriz_2[0])):     \n",
    "        for k in range(len(matriz_2)):  \n",
    "            resultado[i][j] += matriz_1[i][k] * matriz_2[k][j]\n",
    "print(\"Resultado de la multiplicación de matrices:\")\n",
    "for fila in resultado:\n",
    "    print(fila)\n"
   ]
  }
 ],
 "metadata": {
  "kernelspec": {
   "display_name": "Python 3",
   "language": "python",
   "name": "python3"
  },
  "language_info": {
   "codemirror_mode": {
    "name": "ipython",
    "version": 3
   },
   "file_extension": ".py",
   "mimetype": "text/x-python",
   "name": "python",
   "nbconvert_exporter": "python",
   "pygments_lexer": "ipython3",
   "version": "3.13.2"
  }
 },
 "nbformat": 4,
 "nbformat_minor": 5
}
